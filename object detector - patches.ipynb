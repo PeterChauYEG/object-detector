{
 "cells": [
  {
   "cell_type": "markdown",
   "metadata": {},
   "source": [
    "# Object Detector\n",
    "Goal: Build a object detection pipeline that can take in an image, determine what object it is of, then draw a bounding box and label on it.\n",
    "\n",
    "Methodology:\n",
    "1. Load test image\n",
    "2. Load model\n",
    "3. Classify test image\n",
    "4. Determine bounding coordinates\n",
    "5. Draw bounding coordindates\n",
    "6. Draw label"
   ]
  },
  {
   "cell_type": "code",
   "execution_count": 1,
   "metadata": {},
   "outputs": [
    {
     "name": "stderr",
     "output_type": "stream",
     "text": [
      "/home/peter/.local/lib/python3.6/site-packages/h5py/__init__.py:36: FutureWarning: Conversion of the second argument of issubdtype from `float` to `np.floating` is deprecated. In future, it will be treated as `np.float64 == np.dtype(float).type`.\n",
      "  from ._conv import register_converters as _register_converters\n",
      "Using TensorFlow backend.\n"
     ]
    }
   ],
   "source": [
    "from keras.preprocessing import image\n",
    "from keras.applications.resnet50 import preprocess_input, decode_predictions\n",
    "from keras.applications.resnet50 import ResNet50\n",
    "import matplotlib.pyplot as plt\n",
    "import matplotlib.patches as patches\n",
    "import numpy as np\n",
    "import os\n",
    "import seaborn as sns\n",
    "import time"
   ]
  },
  {
   "cell_type": "code",
   "execution_count": 2,
   "metadata": {},
   "outputs": [],
   "source": [
    "# configure notebook\n",
    "%matplotlib inline\n",
    "sns.set()\n",
    "\n",
    "# configure gpu\n",
    "os.environ['CUDA_VISIBLE_DEVICES']='0'"
   ]
  },
  {
   "cell_type": "markdown",
   "metadata": {},
   "source": [
    "## Variables"
   ]
  },
  {
   "cell_type": "code",
   "execution_count": 3,
   "metadata": {},
   "outputs": [],
   "source": [
    "input_path = 'input_images/cup.jpg'\n",
    "\n",
    "img_dim = 224"
   ]
  },
  {
   "cell_type": "markdown",
   "metadata": {},
   "source": [
    "## Functions"
   ]
  },
  {
   "cell_type": "code",
   "execution_count": 4,
   "metadata": {},
   "outputs": [],
   "source": [
    "def show_img(img):\n",
    "    plt.imshow(img, cmap='gray')\n",
    "    plt.xticks([])\n",
    "    plt.yticks([])\n",
    "    plt.show()"
   ]
  },
  {
   "cell_type": "code",
   "execution_count": 5,
   "metadata": {},
   "outputs": [],
   "source": [
    "def make_predictions(preprocessed_batch):\n",
    "    predictions = model.predict(preprocessed_batch)\n",
    "\n",
    "    # decode the predictions\n",
    "    decoded_predictions = decode_predictions(predictions, top=3)\n",
    "\n",
    "    return decoded_predictions"
   ]
  },
  {
   "cell_type": "code",
   "execution_count": 6,
   "metadata": {},
   "outputs": [],
   "source": [
    "def getPatches(columns, img, img_dim, rows):\n",
    "    # create an array for the img patches\n",
    "    patch_imgs = np.empty([1, img_dim, img_dim, 3])\n",
    "    \n",
    "    # create an array for the img coordinates\n",
    "    patch_coords = np.empty([4])\n",
    "    \n",
    "    # calculate the start and end position of each patch\n",
    "    for rowIndex in range(rows):\n",
    "        for columnIndex in range(columns):\n",
    "            # get coordinates\n",
    "            startRowPixel = img_dim * rowIndex\n",
    "            startColumnPixel = img_dim * columnIndex\n",
    "            endRowPixel = (img_dim * (rowIndex + 1))\n",
    "            endColumnPixel = (img_dim * (columnIndex + 1))\n",
    "\n",
    "            # append to coords\n",
    "            coords = np.array([startRowPixel, startColumnPixel, endColumnPixel, endRowPixel])\n",
    "            patch_coords = np.vstack([patch_coords, coords])\n",
    "            \n",
    "            # get the image with the coordinates\n",
    "            img = input_img_array[startRowPixel:endRowPixel, startColumnPixel:endColumnPixel]\n",
    "            \n",
    "            # append to imgs\n",
    "            img = np.expand_dims(img, axis=0)\n",
    "            patch_imgs = np.vstack([patch_imgs, img])\n",
    "            \n",
    "    # slice off the first patch since it's an empty placeholder\n",
    "    patch_imgs = patch_imgs[1:]\n",
    "    patch_coords = patch_coords[1:]\n",
    "    \n",
    "    return patch_imgs, patch_coords"
   ]
  },
  {
   "cell_type": "code",
   "execution_count": 7,
   "metadata": {},
   "outputs": [],
   "source": [
    "def show_img_and_label(coords, img, labels):\n",
    "    fig, ax = plt.subplots(1)\n",
    "    ax.imshow(img / 255, cmap='gray')\n",
    "\n",
    "    for index, label in enumerate(labels):\n",
    "        # generate coords\n",
    "        rect = patches.Rectangle((coords[index][0], coords[index][1]), coords[index][2] - 1 , coords[index][3] - 1 , linewidth=2, edgecolor='r', facecolor='none')\n",
    "        ax.add_patch(rect)\n",
    "\n",
    "        # generate label\n",
    "        detectedObject = label[0][1]\n",
    "        detectedConfidence = label[0][2]\n",
    "        detectedConfidenceFormatted = '{:.5f}'.format(detectedConfidence)\n",
    "        plt.text(coords[index][0] + 8, coords[index][1] + 30, detectedObject)\n",
    "        plt.text(coords[index][0] + 8, coords[index][1] + 60, detectedConfidenceFormatted)\n",
    "        \n",
    "    plt.xticks([])\n",
    "    plt.yticks([])\n",
    "    plt.show()\n",
    "    \n",
    "    # save the fig\n",
    "    # create timestamp\n",
    "    currentTime = time.strftime(\"%Y%m%d-%H%M%S\")\n",
    "    fig.savefig('output_images/{}.jpg'.format(currentTime), bbox_inches='tight')"
   ]
  },
  {
   "cell_type": "markdown",
   "metadata": {},
   "source": [
    "## Load Model"
   ]
  },
  {
   "cell_type": "code",
   "execution_count": 8,
   "metadata": {},
   "outputs": [],
   "source": [
    "# Load the ResNet50 network\n",
    "# requires input to be of shape (224, 224, 3)\n",
    "model = ResNet50(weights='imagenet')"
   ]
  },
  {
   "cell_type": "markdown",
   "metadata": {},
   "source": [
    "## Load Test Image"
   ]
  },
  {
   "cell_type": "code",
   "execution_count": 9,
   "metadata": {},
   "outputs": [],
   "source": [
    "# calculate the number of columns, rows, and patches\n",
    "rows = 2\n",
    "columns = 2"
   ]
  },
  {
   "cell_type": "code",
   "execution_count": 10,
   "metadata": {},
   "outputs": [],
   "source": [
    "# load and resize the input image to be twice as big\n",
    "input_img_raw = image.load_img(input_path, target_size=(img_dim * rows, img_dim * columns))\n",
    "input_img_array = image.img_to_array(input_img_raw)"
   ]
  },
  {
   "cell_type": "markdown",
   "metadata": {},
   "source": [
    "## Create image patches"
   ]
  },
  {
   "cell_type": "code",
   "execution_count": 11,
   "metadata": {},
   "outputs": [],
   "source": [
    "patch_imgs, patch_coords = getPatches(columns, input_img_array, img_dim, rows)"
   ]
  },
  {
   "cell_type": "code",
   "execution_count": 12,
   "metadata": {},
   "outputs": [],
   "source": [
    "# preprocess the image patches\n",
    "patch_imgs_preprocessed = preprocess_input(patch_imgs)"
   ]
  },
  {
   "cell_type": "markdown",
   "metadata": {},
   "source": [
    "## Make a prediction"
   ]
  },
  {
   "cell_type": "code",
   "execution_count": 13,
   "metadata": {},
   "outputs": [
    {
     "name": "stderr",
     "output_type": "stream",
     "text": [
      "Clipping input data to the valid range for imshow with RGB data ([0..1] for floats or [0..255] for integers).\n"
     ]
    },
    {
     "data": {
      "image/png": "[encoded data removed]",
      "text/plain": [
       "<Figure size 432x288 with 1 Axes>"
      ]
     },
     "metadata": {},
     "output_type": "display_data"
    },
    {
     "name": "stderr",
     "output_type": "stream",
     "text": [
      "Clipping input data to the valid range for imshow with RGB data ([0..1] for floats or [0..255] for integers).\n"
     ]
    },
    {
     "data": {
      "image/png": "[encoded data removed]",
      "text/plain": [
       "<Figure size 432x288 with 1 Axes>"
      ]
     },
     "metadata": {},
     "output_type": "display_data"
    },
    {
     "name": "stderr",
     "output_type": "stream",
     "text": [
      "Clipping input data to the valid range for imshow with RGB data ([0..1] for floats or [0..255] for integers).\n"
     ]
    },
    {
     "data": {
      "image/png": "[encoded data removed]",
      "text/plain": [
       "<Figure size 432x288 with 1 Axes>"
      ]
     },
     "metadata": {},
     "output_type": "display_data"
    },
    {
     "name": "stderr",
     "output_type": "stream",
     "text": [
      "Clipping input data to the valid range for imshow with RGB data ([0..1] for floats or [0..255] for integers).\n"
     ]
    },
    {
     "data": {
      "image/png": "[encoded data removed]",
      "text/plain": [
       "<Figure size 432x288 with 1 Axes>"
      ]
     },
     "metadata": {},
     "output_type": "display_data"
    }
   ],
   "source": [
    "# show the preprocessed input image\n",
    "for patch_img in patch_imgs:\n",
    "    show_img(patch_img)"
   ]
  },
  {
   "cell_type": "code",
   "execution_count": 14,
   "metadata": {},
   "outputs": [],
   "source": [
    "# make a prediction\n",
    "decoded_predictions = make_predictions(patch_imgs_preprocessed)"
   ]
  },
  {
   "cell_type": "code",
   "execution_count": 15,
   "metadata": {},
   "outputs": [
    {
     "data": {
      "image/png": "[encoded data removed]",
      "text/plain": [
       "<Figure size 432x288 with 1 Axes>"
      ]
     },
     "metadata": {},
     "output_type": "display_data"
    }
   ],
   "source": [
    "show_img_and_label(patch_coords, input_img_array, decoded_predictions)"
   ]
  }
 ],
 "metadata": {
  "kernelspec": {
   "display_name": "Python 3",
   "language": "python",
   "name": "python3"
  },
  "language_info": {
   "codemirror_mode": {
    "name": "ipython",
    "version": 3
   },
   "file_extension": ".py",
   "mimetype": "text/x-python",
   "name": "python",
   "nbconvert_exporter": "python",
   "pygments_lexer": "ipython3",
   "version": "3.6.5"
  }
 },
 "nbformat": 4,
 "nbformat_minor": 2
}
