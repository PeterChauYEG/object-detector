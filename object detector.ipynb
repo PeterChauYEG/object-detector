{
 "cells": [
  {
   "cell_type": "markdown",
   "metadata": {},
   "source": [
    "# Object Detector\n",
    "Goal: Build a object detection pipeline that can take in an image, determine what object it is of, then draw a bounding box and label on it.\n",
    "\n",
    "Methodology:\n",
    "1. Load test image\n",
    "2. Load model\n",
    "3. Classify test image\n",
    "4. Determine bounding coordinates\n",
    "5. Draw bounding coordindates\n",
    "6. Draw label\n",
    "7. Export pipeline"
   ]
  },
  {
   "cell_type": "code",
   "execution_count": null,
   "metadata": {},
   "outputs": [],
   "source": []
  }
 ],
 "metadata": {
  "kernelspec": {
   "display_name": "Python 3",
   "language": "python",
   "name": "python3"
  },
  "language_info": {
   "codemirror_mode": {
    "name": "ipython",
    "version": 3
   },
   "file_extension": ".py",
   "mimetype": "text/x-python",
   "name": "python",
   "nbconvert_exporter": "python",
   "pygments_lexer": "ipython3",
   "version": "3.6.5"
  }
 },
 "nbformat": 4,
 "nbformat_minor": 2
}
